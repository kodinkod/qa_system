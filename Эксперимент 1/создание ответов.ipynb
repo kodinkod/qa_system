{
 "cells": [
  {
   "attachments": {},
   "cell_type": "markdown",
   "metadata": {},
   "source": [
    "## Генерируем ответы для вопросов\n",
    "Ищем информацию в базе знаний, а потом генерируем ответ по данным, которые мы знаем"
   ]
  },
  {
   "attachments": {},
   "cell_type": "markdown",
   "metadata": {},
   "source": [
    "# PROCESSING"
   ]
  },
  {
   "cell_type": "code",
   "execution_count": 1,
   "metadata": {},
   "outputs": [],
   "source": [
    "import pandas as pd\n",
    "import murgpt"
   ]
  },
  {
   "attachments": {},
   "cell_type": "markdown",
   "metadata": {},
   "source": [
    "# LOAD"
   ]
  },
  {
   "cell_type": "code",
   "execution_count": 2,
   "metadata": {},
   "outputs": [],
   "source": [
    "data = pd.read_csv('dozor_data.csv')\n",
    "data = data.drop('Unnamed: 0', axis=1)\n",
    "data['embeddings'] = data.embeddings.apply(murgpt.emb_to_list)"
   ]
  },
  {
   "cell_type": "code",
   "execution_count": 3,
   "metadata": {},
   "outputs": [
    {
     "data": {
      "text/html": [
       "<div>\n",
       "<style scoped>\n",
       "    .dataframe tbody tr th:only-of-type {\n",
       "        vertical-align: middle;\n",
       "    }\n",
       "\n",
       "    .dataframe tbody tr th {\n",
       "        vertical-align: top;\n",
       "    }\n",
       "\n",
       "    .dataframe thead th {\n",
       "        text-align: right;\n",
       "    }\n",
       "</style>\n",
       "<table border=\"1\" class=\"dataframe\">\n",
       "  <thead>\n",
       "    <tr style=\"text-align: right;\">\n",
       "      <th></th>\n",
       "      <th>title</th>\n",
       "      <th>content</th>\n",
       "      <th>Tokens_count</th>\n",
       "      <th>embeddings</th>\n",
       "    </tr>\n",
       "  </thead>\n",
       "  <tbody>\n",
       "    <tr>\n",
       "      <th>0</th>\n",
       "      <td>start</td>\n",
       "      <td>start\\n Дозор. Мониторинг систем безопасности ...</td>\n",
       "      <td>592</td>\n",
       "      <td>[-0.004413367249071598, -0.009310580790042877,...</td>\n",
       "    </tr>\n",
       "    <tr>\n",
       "      <th>1</th>\n",
       "      <td>Возможности</td>\n",
       "      <td>Возможности\\n ПП включает в себя три модуля, ...</td>\n",
       "      <td>956</td>\n",
       "      <td>[-0.007818569429218769, -0.003677925793454051,...</td>\n",
       "    </tr>\n",
       "    <tr>\n",
       "      <th>2</th>\n",
       "      <td>Технические требования</td>\n",
       "      <td>Технические требования\\n Операционная система...</td>\n",
       "      <td>294</td>\n",
       "      <td>[-0.0021719923242926598, -0.008892780169844627...</td>\n",
       "    </tr>\n",
       "    <tr>\n",
       "      <th>3</th>\n",
       "      <td>Лицензирование</td>\n",
       "      <td>Лицензирование\\n Лицензия «Дозор. Мониторинг ...</td>\n",
       "      <td>78</td>\n",
       "      <td>[0.005547037348151207, -0.002657541073858738, ...</td>\n",
       "    </tr>\n",
       "    <tr>\n",
       "      <th>4</th>\n",
       "      <td>Назначение и основные возможности ПП Назначени...</td>\n",
       "      <td>Назначение и основные возможности ПП Назначени...</td>\n",
       "      <td>1239</td>\n",
       "      <td>[-0.0017939727986231446, -0.014311010017991066...</td>\n",
       "    </tr>\n",
       "  </tbody>\n",
       "</table>\n",
       "</div>"
      ],
      "text/plain": [
       "                                               title  \\\n",
       "0                                              start   \n",
       "1                                        Возможности   \n",
       "2                             Технические требования   \n",
       "3                                     Лицензирование   \n",
       "4  Назначение и основные возможности ПП Назначени...   \n",
       "\n",
       "                                             content  Tokens_count  \\\n",
       "0  start\\n Дозор. Мониторинг систем безопасности ...           592   \n",
       "1   Возможности\\n ПП включает в себя три модуля, ...           956   \n",
       "2   Технические требования\\n Операционная система...           294   \n",
       "3   Лицензирование\\n Лицензия «Дозор. Мониторинг ...            78   \n",
       "4  Назначение и основные возможности ПП Назначени...          1239   \n",
       "\n",
       "                                          embeddings  \n",
       "0  [-0.004413367249071598, -0.009310580790042877,...  \n",
       "1  [-0.007818569429218769, -0.003677925793454051,...  \n",
       "2  [-0.0021719923242926598, -0.008892780169844627...  \n",
       "3  [0.005547037348151207, -0.002657541073858738, ...  \n",
       "4  [-0.0017939727986231446, -0.014311010017991066...  "
      ]
     },
     "execution_count": 3,
     "metadata": {},
     "output_type": "execute_result"
    }
   ],
   "source": [
    "data.head()"
   ]
  },
  {
   "attachments": {},
   "cell_type": "markdown",
   "metadata": {},
   "source": [
    "# FINAL"
   ]
  },
  {
   "cell_type": "code",
   "execution_count": 4,
   "metadata": {},
   "outputs": [],
   "source": [
    "QUESTION = \"thank you for your attention\""
   ]
  },
  {
   "cell_type": "code",
   "execution_count": 5,
   "metadata": {},
   "outputs": [],
   "source": [
    "context = murgpt.create_context_1ver(QUESTION, data)          #поиск ответа\n",
    "ANSWER  =  murgpt.generate_answer(QUESTION, context)"
   ]
  },
  {
   "cell_type": "code",
   "execution_count": 6,
   "metadata": {},
   "outputs": [
    {
     "name": "stdout",
     "output_type": "stream",
     "text": [
      "assistant: You're welcome! Don't hesitate to ask if you have any questions about 'Дозор'.\n"
     ]
    }
   ],
   "source": [
    "print(ANSWER)"
   ]
  },
  {
   "cell_type": "code",
   "execution_count": 7,
   "metadata": {},
   "outputs": [
    {
     "data": {
      "text/plain": [
       "'Просмотр отчётов о проверках Отправка изменений по определенному ПО оператору программы\\n Для изменения информации об определенном ПО необходимо щелкнуть по данному ПО (рисунок 11).Рис. 11После выбора ПО для редактирования будет отображено окно «Редактирование записи» (рисунок 12).Рис. 12Для отправки записи необходимо заполнить поле «Комментарий» к проведенным изменениям: «Почему изменено доверие?», «Почему отнесли к такой категории?» и т.д. Иначе, запрос не будет отправлен, так как оператору необходимо принять решение об изменении информации о ПО, основываясь на корректных доводах пользователя.'"
      ]
     },
     "execution_count": 7,
     "metadata": {},
     "output_type": "execute_result"
    }
   ],
   "source": [
    "context"
   ]
  }
 ],
 "metadata": {
  "kernelspec": {
   "display_name": "Python 3",
   "language": "python",
   "name": "python3"
  },
  "language_info": {
   "codemirror_mode": {
    "name": "ipython",
    "version": 3
   },
   "file_extension": ".py",
   "mimetype": "text/x-python",
   "name": "python",
   "nbconvert_exporter": "python",
   "pygments_lexer": "ipython3",
   "version": "3.8.13"
  },
  "orig_nbformat": 4
 },
 "nbformat": 4,
 "nbformat_minor": 2
}
